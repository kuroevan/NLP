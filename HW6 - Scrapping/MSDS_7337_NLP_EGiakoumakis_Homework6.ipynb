{
 "cells": [
  {
   "cell_type": "markdown",
   "metadata": {},
   "source": [
    "# MSDS 7337 NLP Homework 6\n",
    "\n",
    "## Evangelos Giakoumakis"
   ]
  },
  {
   "cell_type": "code",
   "execution_count": 1,
   "metadata": {},
   "outputs": [
    {
     "name": "stdout",
     "output_type": "stream",
     "text": [
      "Windows-10-10.0.17134\n",
      "Python 2.7.15 |Anaconda, Inc.| (default, May  1 2018, 18:37:09) [MSC v.1500 64 bit (AMD64)]\n",
      "nltk 3.3\n",
      "requests 2.18.4\n",
      "re 2.2.1\n",
      "base\n"
     ]
    }
   ],
   "source": [
    "# get system information\n",
    "import platform; print platform.platform()\n",
    "import sys; print \"Python\", sys.version\n",
    "import nltk; print \"nltk\", nltk.__version__\n",
    "import requests; print \"requests\", requests.__version__\n",
    "import re; print \"re\", re.__version__\n",
    "import os; print os.environ['CONDA_DEFAULT_ENV']\n"
   ]
  },
  {
   "cell_type": "code",
   "execution_count": 2,
   "metadata": {},
   "outputs": [],
   "source": [
    "# imports\n",
    "from bs4 import BeautifulSoup\n",
    "import requests\n",
    "from sklearn.feature_extraction.text import TfidfVectorizer\n",
    "from sklearn.metrics.pairwise import cosine_similarity"
   ]
  },
  {
   "cell_type": "code",
   "execution_count": 3,
   "metadata": {},
   "outputs": [],
   "source": [
    "# amazon book links\n",
    "am_url = \"https://www.amazon.com/s/ref=nb_sb_ss_c_1_5?url=search-alias%3Dstripbooks&field-keywords=game+of+thrones&sprefix=game+%2Cundefined%2C186&crid=6O1IHGE860SY&rh=n%3A283155%2Ck%3Agame+of+thrones\"\n",
    "am_url2 = \"https://www.amazon.com/s/ref=sr_pg_2?rh=n%3A283155%2Ck%3Agame+of+thrones&page=2&keywords=game+of+thrones&ie=UTF8&qid=1541373342\"\n"
   ]
  },
  {
   "cell_type": "code",
   "execution_count": 4,
   "metadata": {},
   "outputs": [],
   "source": [
    "# amazon scraper function\n",
    "def amazon_scrapper(url):\n",
    "    headers = {'User-Agent': 'Mozilla/5.0 (Windows NT 6.3; Win64; x64) AppleWebKit/537.36 (KHTML, like Gecko) Chrome/54.0.2840.71 Safari/537.36'}\n",
    "    r = requests.get(url, headers=headers)\n",
    "    soup = BeautifulSoup(r.content, \"lxml\")\n",
    "    titles = soup.find_all('div', class_ = 'a-row a-spacing-small')\n",
    "    results = []\n",
    "    for tl in titles:\n",
    "        results.append(tl.text)\n",
    "    return results"
   ]
  },
  {
   "cell_type": "code",
   "execution_count": 6,
   "metadata": {},
   "outputs": [
    {
     "data": {
      "text/plain": [
       "[u'A Game of Thrones (A Song of Ice and Fire, Book 1)Mar 22, 2011by George R. R. Martin',\n",
       " u'A Clash of Kings (A Song of Ice and Fire, Book 2)Feb 2, 1999by George R. R. Martin',\n",
       " u'A Storm of Swords (A Song of Ice and Fire, Book 3)Mar 4, 2003by George R. R. Martin',\n",
       " u'A Feast for Crows (A Song of Ice and Fire, Book 4)Nov 8, 2005by George R. R. Martin',\n",
       " u'A Dance with Dragons (A Song of Ice and Fire, Book 5)Jul 12, 2011by George R. R. Martin',\n",
       " u'A Game of Thrones / A Clash of Kings / A Storm of Swords / A Feast of Crows / A Dance with Dragons Oct 29, 2013by George R. R. Martin',\n",
       " u'Fire & Blood: 300 Years Before A Game of Thrones (A Targaryen History) (A Song of Ice and Fire)Nov 20, 2018by George R. R. Martin and Doug Wheatley',\n",
       " u'Game of Thrones: A Pop-Up Guide to WesterosJun 10, 2014by Matthew Reinhart and Michael J. Komarck',\n",
       " u'The World of Ice & Fire: The Untold History of Westeros and the Game of Thrones Oct 28, 2014by George R. R. Martin and Elio Garcia',\n",
       " u'A Game of Thrones: The Illustrated Edition: A Song of Ice and Fire: Book OneOct 18, 2016by George R. R. Martin and John Hodgman',\n",
       " u'Game of Thrones: S7 [Blu-ray]Jan 30, 2018by GAME OF THRONES: THE COMPLETE SEVENTH SEASON',\n",
       " u'A Feast of Ice and Fire: The Official Game of Thrones Companion CookbookMay 29, 2012by Chelsea Monroe-Cassel and Sariann Lehrer',\n",
       " u\"Search FeedbackDid you find what you were looking for?YesNo\\nChoose a category that best describes the issue that you are having with the search:Choose a category\\u2026I need to talk to customer service.I still haven't found what I'm looking for.How do I filter or sort my search ?Something is broken.A picture or description looks wrong.Could you add a feature ?Could you start carrying a product not listed here ?Choose a category\\u2026\\n\\n\\n\\n\\n\\n\\n\\nLeave us some comments about your search; your comments can help make our site better for everyone.Submit\\n\\nGet Express customer service or contact us by e-mail or phone.contact us\\n\\nThank you for your feedback.\\n\"]"
      ]
     },
     "execution_count": 6,
     "metadata": {},
     "output_type": "execute_result"
    }
   ],
   "source": [
    "# collect book titles of first 2 pages and place in list\n",
    "got_pg1 = []\n",
    "got_pg1 = amazon_scrapper(am_url)\n",
    "got_pg1"
   ]
  },
  {
   "cell_type": "code",
   "execution_count": 7,
   "metadata": {},
   "outputs": [
    {
     "data": {
      "text/plain": [
       "[u'[Sponsored]The Ukinhan Wilds (Warder Book 1)Aug 28, 2018by Eldon Thompson',\n",
       " u'To return a wayward princess to her royal father, a rogue bladesman must battle a savage mutant and the harrowing wilderness that spawned it.',\n",
       " u'[Sponsored]The Dark Side of Light:  Book One-INITIATION: A Viking Time Travel Fantasy (The Dark Side of Light Trilogy 1)May 16, 2018by Susan D. Kalior',\n",
       " u'When two souls are fated to be together, not even time and space can keep them apart.',\n",
       " u'A Feast for Crows (A Song of Ice and Fire, Book 4)Nov 8, 2005by George R. R. Martin',\n",
       " u'Game of Thrones TarotMar 20, 2018by Liz Dean and Craig Coss',\n",
       " u'Brain Of Thrones: A Game Of Thrones Quiz BookSep 6, 2017by Rich Jepson',\n",
       " u'The Official A Game of Thrones Coloring Book: An Adult Coloring Book (A Song of Ice and Fire)Oct 27, 2015by George R. R. Martin',\n",
       " u'A Song of Ice & Fire RPG: A Game of Thrones EditionJun 12, 2012by Robert J. Schwalb',\n",
       " u'The Unofficial Game of Thrones Cookbook: From Direwolf Ale to Auroch Stew - More Than 150 Recipes from Westeros and Beyond (Unofficial Cookbook)Apr 18, 2012by Alan Kistler',\n",
       " u'[Sponsored]The Mountain Throne (Sindathi Twilight Trilogy Book 1)Oct 29, 2017by A. Sterling and Yefim Kligerman',\n",
       " u'Sterling\\u2019s lushly realized novel should scratch the itch for those awaiting more material from Game of Thrones mastermind George R.R. Martin. - Kirkus',\n",
       " u'[Sponsored]Eye of Truth (Agents of the Crown Book 1)Aug 24, 2018by Lindsay Buroker',\n",
       " u'Do you love fantasy with romance, humor, and mystery? Maybe with a sarcastic dwarf and an aloof elf on the side? ',\n",
       " u\"HBO's Game of Thrones Coloring BookOct 27, 2016by HBO\",\n",
       " u\"Inside HBO's Game of Thrones: Seasons 1 & 2Sep 26, 2012by Bryan Cogman and George R. R. Martin\",\n",
       " u\"The Lands of Ice and Fire (A Game of Thrones): Maps from King's Landing to Across the Narrow Sea (A Song of Ice and Fire)Oct 30, 2012by George R. R. Martin\",\n",
       " u'A Game of Thrones: The Graphic Novel: Volume OneMar 27, 2012by George R. R. Martin and Tommy Patterson',\n",
       " u'George R.R. Martin Series Order & Checklist: A Song of Ice and Fire Series (Game of Thrones), Plus All Other Series, Stand-Alone Novels, and Short Stories (Series List Book 27)Jan 22, 2016by ReadList and Steve Sumner',\n",
       " u'A Game of Thrones: The Graphic Novel: Volume TwoJun 11, 2013by George R. R. Martin and Tommy Patterson',\n",
       " u'[Sponsored]Time Will Tell (Tilli of Kingsfoot Book 1)Mar 17, 2018by Anthony Wedgeworth and Steve Ott',\n",
       " u'Epic Fantasy Adventure centered on carrying out a magical quest where the fate of civilization rests on one girl and the odd creatures she befriends',\n",
       " u'[Sponsored]The Sword of Light: The Complete TrilogyFeb 14, 2017by Aaron Hodges and Christian Bentulan',\n",
       " u\"Fans of David Eddings and Christopher Paolini will love this epic new fantasy, because it's packed with dragons, action and unstoppable magic!\",\n",
       " u\"Search FeedbackDid you find what you were looking for?YesNo\\nChoose a category that best describes the issue that you are having with the search:Choose a category\\u2026I need to talk to customer service.I still haven't found what I'm looking for.How do I filter or sort my search ?Something is broken.A picture or description looks wrong.Could you add a feature ?Could you start carrying a product not listed here ?Choose a category\\u2026\\n\\n\\n\\n\\n\\n\\n\\nLeave us some comments about your search; your comments can help make our site better for everyone.Submit\\n\\nGet Express customer service or contact us by e-mail or phone.contact us\\n\\nThank you for your feedback.\\n\"]"
      ]
     },
     "execution_count": 7,
     "metadata": {},
     "output_type": "execute_result"
    }
   ],
   "source": [
    "got_pg2 = []\n",
    "got_pg2 = amazon_scrapper(am_url2)\n",
    "got_pg2"
   ]
  },
  {
   "cell_type": "code",
   "execution_count": 11,
   "metadata": {},
   "outputs": [
    {
     "name": "stdout",
     "output_type": "stream",
     "text": [
      "24\n"
     ]
    }
   ],
   "source": [
    "# combine collected results and eliminate sponsored books\n",
    "got = []\n",
    "got = got_pg1[:11] + got_pg2[4:17]\n",
    "print len(got)"
   ]
  },
  {
   "cell_type": "code",
   "execution_count": 12,
   "metadata": {},
   "outputs": [
    {
     "name": "stdout",
     "output_type": "stream",
     "text": [
      "1. a) 24 Amazon Book titles: \n",
      "[u'A Game of Thrones (A Song of Ice and Fire, Book 1)Mar 22, 2011by George R. R. Martin', u'A Clash of Kings (A Song of Ice and Fire, Book 2)Feb 2, 1999by George R. R. Martin', u'A Storm of Swords (A Song of Ice and Fire, Book 3)Mar 4, 2003by George R. R. Martin', u'A Feast for Crows (A Song of Ice and Fire, Book 4)Nov 8, 2005by George R. R. Martin', u'A Dance with Dragons (A Song of Ice and Fire, Book 5)Jul 12, 2011by George R. R. Martin', u'A Game of Thrones / A Clash of Kings / A Storm of Swords / A Feast of Crows / A Dance with Dragons Oct 29, 2013by George R. R. Martin', u'Fire & Blood: 300 Years Before A Game of Thrones (A Targaryen History) (A Song of Ice and Fire)Nov 20, 2018by George R. R. Martin and Doug Wheatley', u'Game of Thrones: A Pop-Up Guide to WesterosJun 10, 2014by Matthew Reinhart and Michael J. Komarck', u'The World of Ice & Fire: The Untold History of Westeros and the Game of Thrones Oct 28, 2014by George R. R. Martin and Elio Garcia', u'A Game of Thrones: The Illustrated Edition: A Song of Ice and Fire: Book OneOct 18, 2016by George R. R. Martin and John Hodgman', u'Game of Thrones: S7 [Blu-ray]Jan 30, 2018by GAME OF THRONES: THE COMPLETE SEVENTH SEASON', u'A Feast for Crows (A Song of Ice and Fire, Book 4)Nov 8, 2005by George R. R. Martin', u'Game of Thrones TarotMar 20, 2018by Liz Dean and Craig Coss', u'Brain Of Thrones: A Game Of Thrones Quiz BookSep 6, 2017by Rich Jepson', u'The Official A Game of Thrones Coloring Book: An Adult Coloring Book (A Song of Ice and Fire)Oct 27, 2015by George R. R. Martin', u'A Song of Ice & Fire RPG: A Game of Thrones EditionJun 12, 2012by Robert J. Schwalb', u'The Unofficial Game of Thrones Cookbook: From Direwolf Ale to Auroch Stew - More Than 150 Recipes from Westeros and Beyond (Unofficial Cookbook)Apr 18, 2012by Alan Kistler', u'[Sponsored]The Mountain Throne (Sindathi Twilight Trilogy Book 1)Oct 29, 2017by A. Sterling and Yefim Kligerman', u'Sterling\\u2019s lushly realized novel should scratch the itch for those awaiting more material from Game of Thrones mastermind George R.R. Martin. - Kirkus', u'[Sponsored]Eye of Truth (Agents of the Crown Book 1)Aug 24, 2018by Lindsay Buroker', u'Do you love fantasy with romance, humor, and mystery? Maybe with a sarcastic dwarf and an aloof elf on the side? ', u\"HBO's Game of Thrones Coloring BookOct 27, 2016by HBO\", u\"Inside HBO's Game of Thrones: Seasons 1 & 2Sep 26, 2012by Bryan Cogman and George R. R. Martin\", u\"The Lands of Ice and Fire (A Game of Thrones): Maps from King's Landing to Across the Narrow Sea (A Song of Ice and Fire)Oct 30, 2012by George R. R. Martin\"]\n"
     ]
    }
   ],
   "source": [
    "print \"1. a) 24 Amazon Book titles: \"\n",
    "print got"
   ]
  },
  {
   "cell_type": "code",
   "execution_count": 17,
   "metadata": {},
   "outputs": [],
   "source": [
    "# pairwise cosine similarity function\n",
    "def cos_sim(intxt):\n",
    "    tfidf_vectorizer=TfidfVectorizer()\n",
    "    tfidf_matrix=tfidf_vectorizer.fit_transform(intxt)\n",
    "    cs = [0,0,0,0,0,0,0,0,0,0,0,0,0,0,0,0,0,0,0,0,0,0,0]\n",
    "    for i in range(len(intxt)-1):\n",
    "        cs[i]=cosine_similarity(tfidf_matrix[i],tfidf_matrix[i+1])\n",
    "    return cs"
   ]
  },
  {
   "cell_type": "code",
   "execution_count": 20,
   "metadata": {},
   "outputs": [],
   "source": [
    "# calculate cosine similarity and place results on list\n",
    "got_cos_sim = cos_sim(got)"
   ]
  },
  {
   "cell_type": "code",
   "execution_count": 22,
   "metadata": {},
   "outputs": [
    {
     "name": "stdout",
     "output_type": "stream",
     "text": [
      "1. b) Cosine Similarity measurements: \n",
      "[array([[0.36387458]]), array([[0.34683375]]), array([[0.3261268]]), array([[0.27823025]]), array([[0.35304913]]), array([[0.12056796]]), array([[0.06615533]]), array([[0.1402368]]), array([[0.27854425]]), array([[0.12881571]]), array([[0.02664951]]), array([[0.04065381]]), array([[0.09446055]]), array([[0.09466687]]), array([[0.156706]]), array([[0.07931479]]), array([[0.02389383]]), array([[0.08099637]]), array([[0.0368865]]), array([[0.01953819]]), array([[0.]]), array([[0.26144552]]), array([[0.15970311]])]\n"
     ]
    }
   ],
   "source": [
    "print \"1. b) Cosine Similarity measurements: \"\n",
    "print got_cos_sim"
   ]
  },
  {
   "cell_type": "code",
   "execution_count": 24,
   "metadata": {},
   "outputs": [
    {
     "name": "stdout",
     "output_type": "stream",
     "text": [
      "1. c) Book titles 1-2 are the most similar (cos_sim: 0,3639) followed by books 2-3 (cos_sim: 0.3468)\n",
      "Books 20-21 are the most disimilar (cos_sim: 0.0) followed by books 19-20 (cos_sim: 0.0195)\n"
     ]
    }
   ],
   "source": [
    "print \"1. c) Book titles 1-2 are the most similar (cos_sim: 0,3639) followed by books 2-3 (cos_sim: 0.3468)\"\n",
    "print \"Books 20-21 are the most disimilar (cos_sim: 0.0) followed by books 19-20 (cos_sim: 0.0195)\""
   ]
  },
  {
   "cell_type": "code",
   "execution_count": 25,
   "metadata": {},
   "outputs": [],
   "source": [
    "# google book links\n",
    "original = \"Game of Thrones\"\n",
    "gl_url = \"https://www.google.com/search?q=game+of+thrones&source=lnms&tbm=bks&sa=X&ved=0ahUKEwiytczTqbneAhXumOAKHeOUC-EQ_AUIGSgB&biw=1242&bih=569&dpr=1.1\"\n",
    "gl_url2 = \"https://www.google.com/search?q=game+of+thrones&tbm=bks&ei=RaPfW_KXKtHIsAXtjbWoCw&start=10&sa=N&ved=0ahUKEwiyztiIk7zeAhVRJKwKHe1GDbUQ8tMDCGg&biw=737&bih=569&dpr=1.1\"\n"
   ]
  },
  {
   "cell_type": "code",
   "execution_count": 26,
   "metadata": {},
   "outputs": [],
   "source": [
    "# google scraper function\n",
    "def google_scrapper(url):\n",
    "    headers = {'User-Agent': 'Mozilla/5.0 (Windows NT 6.3; Win64; x64) AppleWebKit/537.36 (KHTML, like Gecko) Chrome/54.0.2840.71 Safari/537.36'}\n",
    "    r = requests.get(url, headers=headers)\n",
    "    soup = BeautifulSoup(r.content, \"lxml\")\n",
    "    titles = soup.find_all('div', class_ = 'rc')\n",
    "    results = []\n",
    "    for tl in titles:\n",
    "        results.append(tl.text)\n",
    "    return results"
   ]
  },
  {
   "cell_type": "code",
   "execution_count": 27,
   "metadata": {},
   "outputs": [
    {
     "data": {
      "text/plain": [
       "[u\"A Game of Thrones 4-Book Bundle: A Song of Ice and Fire Series: A ...https://books.google.com/books?isbn=0345529065George R. R. Martin - 2011 - \\u200ePreviewThe perfect gift for fans of HBO's Game of Thrones\\u2014a boxed set featuring the first four novels! George R. R. Martin's A Song of Ice and Fire series has become, in many ways, the gold standard for modern epic fantasy.\",\n",
       " u'A Game of Throneshttps://books.google.com/books?isbn=0553808044George R. R. Martin - 2016 - \\u200ePreview - \\u200eMore editionsSweeping from a region of brutal cold to a distant summertime kingdom of epicurean plenty, here is a tale rife with plots and counterplots, tragedy and betrayal, victory and terror, as each faction endeavors to win that deadliest of ...',\n",
       " u'Game of Thrones: A Pop-Up Guide to Westeroshttps://books.google.com/books?isbn=1608873145Matthew Reinhart - 2014 - \\u200eNo preview - \\u200eMore editionsVisually spectacular and enthrallingly interactive, Game of Thrones: A Pop-Up Guide to Westeros sets a new standard for pop-up books and perfectly captures the epic scope and imagination of the series.',\n",
       " u'A Game of Thrones: The Graphic Novel. Volume 1https://books.google.com/books?isbn=044042321XDaniel Abraham, \\u200eGeorge R. R. Martin - 2012 - \\u200ePreview - \\u200eMore editionsThe kingdom of the royal Stark family faces its ultimate challenge in the onset of a generation-long winter, the poisonous plots of the rival Lannisters, the emergence of the Neverborn demons and the arrival of barbarian hordes. 75,000 ...',\n",
       " u'Game of Thrones and Philosophy: Logic Cuts Deeper Than Swordshttps://books.google.com/books?isbn=1118161998William Irwin, \\u200eHenry Jacoby - 2012 - \\u200ePreview - \\u200eMore editionsThis insightful guide draws on the works of Machiavelli, Hobbes, Descartes, Augustine, Plato, Aristotle, and many other great philosophers to analyze key characters and plotlines while exploring themes of war, honor, knowledge, morality, ...',\n",
       " u'A Song of Ice and Firehttps://books.google.com/books?isbn=1101965703George R. R. Martin, \\u200eEric Velhagen - 2017 - \\u200ePreview - \\u200eMore editionsIn the 2018 entry of this annual calendar series spanning A Game of Thrones and the entire Song of Ice and Fire saga, award-winning illustrator Justin Sweet delivers one of the most atmospheric and otherworldly visions yet of George R. R. ...',\n",
       " u'A Feast of Ice and Fire: The Official Game of Thrones Companion Cookbookhttps://books.google.com/books?isbn=0345535545Chelsea Monroe-Cassel, \\u200eSariann Lehrer - 2012 - \\u200ePreview - \\u200eMore editionsExhaustively researched and reverently detailed, accompanied by passages from all five books in the series and full-color photographs guaranteed to whet your appetite, this is the companion to the blockbuster phenomenon that millions of ...',\n",
       " u'Re-Reading a Game of Thrones: A Critical Response to George R. R. ...https://books.google.com/books?isbn=1608881156Remy J. Verhoeve - 2011 - \\u200ePreviewIn 1996, George R.R. Martin electrified fantasy fans around the world when he published A Game of Thrones, the first book in his acclaimed A Song of Ice and Fire series. Since then, Martin has published three more books in the series.',\n",
       " u\"Inside HBO's Game of Thrones: Seasons 3 & 4https://books.google.com/books?isbn=1452130477C. A. Taylor - 2014 - \\u200ePreview - \\u200eMore editionsThis official companion book reveals what it takes to translate George R. R. Martin's bestselling series into a wildly popular television series.\",\n",
       " u\"Game of Thrones: The Noble Houses of Westeros: Seasons 1-5https://books.google.com/books?isbn=0762460407Running Press - 2015 - \\u200ePreview - \\u200eMore editionsThe book is filled with essential information including each house's sigil, history, home, family tree, character profiles, and is fully illustrated with series photography throughout.\"]"
      ]
     },
     "execution_count": 27,
     "metadata": {},
     "output_type": "execute_result"
    }
   ],
   "source": [
    "# collect book titles of first 2 pages and place in list\n",
    "glg_got = []\n",
    "glg_got = google_scrapper(gl_url)\n",
    "glg_got"
   ]
  },
  {
   "cell_type": "code",
   "execution_count": 28,
   "metadata": {},
   "outputs": [
    {
     "data": {
      "text/plain": [
       "[u\"Inside HBO's Game of Thrones: Seasons 3 & 4https://books.google.com/books?isbn=1452130477C. A. Taylor - 2014 - \\u200ePreview - \\u200eMore editionsThis official companion book reveals what it takes to translate George R. R. Martin's bestselling series into a wildly popular television series.\",\n",
       " u'Game of Thrones: In Memoriamhttps://books.google.com/books?isbn=0762457910Running Press - 2015 - \\u200ePreview - \\u200eMore editionsThe book includes quotes, brief character profiles, and is fully illustrated with series photography throughout.',\n",
       " u\"Winning the Game of Thrones: The Host of Characters and Their Agendashttps://books.google.com/books?isbn=0615817440Valerie Estelle Frankel - 2013 - \\u200eNo preview - \\u200eMore editionsThis book explores characters' agendas, from Sansa's secret schemes to Arya's ultimate goal.\",\n",
       " u'A Game of Thrones: The Illustrated Edition: A Song of Ice and Fire: ...https://books.google.com/books?isbn=1101965878George R. R. Martin - 2016 - \\u200ePreview - \\u200eMore editionsA dazzling illustrated edition of the book that started it all\\u2014for readers of A Song of Ice and Fire and fans of HBO\\u2019s Game of Thrones.',\n",
       " u'A Game of Thrones: The Graphic Novel: Volume Fourhttps://books.google.com/books?isbn=0345539710George R. R. Martin - 2015 - \\u200ePreview - \\u200eMore editionsAnd across the Narrow Sea, Daenerys Targaryen will learn the true measure of grief\\u2014and emerge from its fiery depths transformed, hardened, and ready to claim what is hers by right: the Iron Throne. From the Hardcover edition.',\n",
       " u'The Ultimate Game of Thrones and Philosophy: You Think or Diehttps://books.google.com/books?isbn=0812699556Eric J. Silverman, \\u200eRobert Arp - 2016 - \\u200ePreview - \\u200eMore editionsHow should political leaders be chosen in Westeros and beyond? Is power merely an illusion? Is it immoral to enjoy overly violent and sexual stories like Game of Thrones?',\n",
       " u'Game of Thrones Versus History: Written in Bloodhttps://books.google.com/books?isbn=1119249422Brian A. Pavlac - 2017 - \\u200ePreview - \\u200eMore editions\"Game of Thrones versus History: Written in Blood is a collection of thought-provoking essays by medieval historians who explore how the enormously popular HBO series and fantasy literature of George R.R. Martin are both informed by and ...',\n",
       " u\"A Dance with Dragonshttps://books.google.com/books?isbn=110188603XGeorge R. R. Martin - 2015 - \\u200ePreview - \\u200eMore editionsNew threats emerge to endanger the future of the Seven Kingdoms, as Daenerys Targaryen, ruling in the East, fights off a multitude of enemies, while Jon Snow, Lord Commander of the Night's Watch, faces his foes both in the Watch and beyond ...\",\n",
       " u'Fire in the Bloodhttps://books.google.com/books?isbn=1784626848George McCartney - 2014 - \\u200ePreview - \\u200eMore editionsJoin young Annie James as she begins her new job, working as a summer intern with Jack Davidson.',\n",
       " u\"The Winds of Winterhttps://books.google.com/books?isbn=0008165165George R. R. Martin - No preview - \\u200eMore editionsThe sixth book in George R. R. Martin's critically acclaimed, world wide best-selling series A SONG OF ICE AND FIRE - the inspiration behind HBO's GAME OF THRONES.\"]"
      ]
     },
     "execution_count": 28,
     "metadata": {},
     "output_type": "execute_result"
    }
   ],
   "source": [
    "glg_got2 = []\n",
    "glg_got2 = google_scrapper(gl_url2)\n",
    "glg_got2"
   ]
  },
  {
   "cell_type": "code",
   "execution_count": 29,
   "metadata": {},
   "outputs": [
    {
     "data": {
      "text/plain": [
       "20"
      ]
     },
     "execution_count": 29,
     "metadata": {},
     "output_type": "execute_result"
    }
   ],
   "source": [
    "# combine results and place in list\n",
    "glg_fin = []\n",
    "glg_fin = glg_got + glg_got2\n",
    "len(glg_fin)"
   ]
  },
  {
   "cell_type": "code",
   "execution_count": 30,
   "metadata": {},
   "outputs": [
    {
     "name": "stdout",
     "output_type": "stream",
     "text": [
      "2. a) Google Book titles: \n",
      "A Game of Thrones 4-Book Bundle: A Song of Ice and Fire Series: A ...https://books.google.com/books?isbn=0345529065George R. R. Martin - 2011 - ‎PreviewThe perfect gift for fans of HBO's Game of Thrones—a boxed set featuring the first four novels! George R. R. Martin's A Song of Ice and Fire series has become, in many ways, the gold standard for modern epic fantasy.\n",
      "The Winds of Winterhttps://books.google.com/books?isbn=0008165165George R. R. Martin - No preview - ‎More editionsThe sixth book in George R. R. Martin's critically acclaimed, world wide best-selling series A SONG OF ICE AND FIRE - the inspiration behind HBO's GAME OF THRONES.\n"
     ]
    }
   ],
   "source": [
    "print \"2. a) Google Book titles: \"\n",
    "print glg_fin[0]\n",
    "print glg_fin[19]"
   ]
  },
  {
   "cell_type": "code",
   "execution_count": 31,
   "metadata": {},
   "outputs": [
    {
     "data": {
      "text/plain": [
       "[u\"A Game of Thrones 4-Book Bundle: A Song of Ice and Fire Series: A ...https://books.google.com/books?isbn=0345529065George R. R. Martin - 2011 - \\u200ePreviewThe perfect gift for fans of HBO's Game of Thrones\\u2014a boxed set featuring the first four novels! George R. R. Martin's A Song of Ice and Fire series has become, in many ways, the gold standard for modern epic fantasy.\",\n",
       " u'A Game of Throneshttps://books.google.com/books?isbn=0553808044George R. R. Martin - 2016 - \\u200ePreview - \\u200eMore editionsSweeping from a region of brutal cold to a distant summertime kingdom of epicurean plenty, here is a tale rife with plots and counterplots, tragedy and betrayal, victory and terror, as each faction endeavors to win that deadliest of ...',\n",
       " u'Game of Thrones: A Pop-Up Guide to Westeroshttps://books.google.com/books?isbn=1608873145Matthew Reinhart - 2014 - \\u200eNo preview - \\u200eMore editionsVisually spectacular and enthrallingly interactive, Game of Thrones: A Pop-Up Guide to Westeros sets a new standard for pop-up books and perfectly captures the epic scope and imagination of the series.',\n",
       " u'A Game of Thrones: The Graphic Novel. Volume 1https://books.google.com/books?isbn=044042321XDaniel Abraham, \\u200eGeorge R. R. Martin - 2012 - \\u200ePreview - \\u200eMore editionsThe kingdom of the royal Stark family faces its ultimate challenge in the onset of a generation-long winter, the poisonous plots of the rival Lannisters, the emergence of the Neverborn demons and the arrival of barbarian hordes. 75,000 ...',\n",
       " u'Game of Thrones and Philosophy: Logic Cuts Deeper Than Swordshttps://books.google.com/books?isbn=1118161998William Irwin, \\u200eHenry Jacoby - 2012 - \\u200ePreview - \\u200eMore editionsThis insightful guide draws on the works of Machiavelli, Hobbes, Descartes, Augustine, Plato, Aristotle, and many other great philosophers to analyze key characters and plotlines while exploring themes of war, honor, knowledge, morality, ...',\n",
       " u'A Song of Ice and Firehttps://books.google.com/books?isbn=1101965703George R. R. Martin, \\u200eEric Velhagen - 2017 - \\u200ePreview - \\u200eMore editionsIn the 2018 entry of this annual calendar series spanning A Game of Thrones and the entire Song of Ice and Fire saga, award-winning illustrator Justin Sweet delivers one of the most atmospheric and otherworldly visions yet of George R. R. ...',\n",
       " u'A Feast of Ice and Fire: The Official Game of Thrones Companion Cookbookhttps://books.google.com/books?isbn=0345535545Chelsea Monroe-Cassel, \\u200eSariann Lehrer - 2012 - \\u200ePreview - \\u200eMore editionsExhaustively researched and reverently detailed, accompanied by passages from all five books in the series and full-color photographs guaranteed to whet your appetite, this is the companion to the blockbuster phenomenon that millions of ...',\n",
       " u'Re-Reading a Game of Thrones: A Critical Response to George R. R. ...https://books.google.com/books?isbn=1608881156Remy J. Verhoeve - 2011 - \\u200ePreviewIn 1996, George R.R. Martin electrified fantasy fans around the world when he published A Game of Thrones, the first book in his acclaimed A Song of Ice and Fire series. Since then, Martin has published three more books in the series.',\n",
       " u\"Inside HBO's Game of Thrones: Seasons 3 & 4https://books.google.com/books?isbn=1452130477C. A. Taylor - 2014 - \\u200ePreview - \\u200eMore editionsThis official companion book reveals what it takes to translate George R. R. Martin's bestselling series into a wildly popular television series.\",\n",
       " u\"Game of Thrones: The Noble Houses of Westeros: Seasons 1-5https://books.google.com/books?isbn=0762460407Running Press - 2015 - \\u200ePreview - \\u200eMore editionsThe book is filled with essential information including each house's sigil, history, home, family tree, character profiles, and is fully illustrated with series photography throughout.\",\n",
       " u\"Inside HBO's Game of Thrones: Seasons 3 & 4https://books.google.com/books?isbn=1452130477C. A. Taylor - 2014 - \\u200ePreview - \\u200eMore editionsThis official companion book reveals what it takes to translate George R. R. Martin's bestselling series into a wildly popular television series.\",\n",
       " u'Game of Thrones: In Memoriamhttps://books.google.com/books?isbn=0762457910Running Press - 2015 - \\u200ePreview - \\u200eMore editionsThe book includes quotes, brief character profiles, and is fully illustrated with series photography throughout.',\n",
       " u\"Winning the Game of Thrones: The Host of Characters and Their Agendashttps://books.google.com/books?isbn=0615817440Valerie Estelle Frankel - 2013 - \\u200eNo preview - \\u200eMore editionsThis book explores characters' agendas, from Sansa's secret schemes to Arya's ultimate goal.\",\n",
       " u'A Game of Thrones: The Illustrated Edition: A Song of Ice and Fire: ...https://books.google.com/books?isbn=1101965878George R. R. Martin - 2016 - \\u200ePreview - \\u200eMore editionsA dazzling illustrated edition of the book that started it all\\u2014for readers of A Song of Ice and Fire and fans of HBO\\u2019s Game of Thrones.',\n",
       " u'A Game of Thrones: The Graphic Novel: Volume Fourhttps://books.google.com/books?isbn=0345539710George R. R. Martin - 2015 - \\u200ePreview - \\u200eMore editionsAnd across the Narrow Sea, Daenerys Targaryen will learn the true measure of grief\\u2014and emerge from its fiery depths transformed, hardened, and ready to claim what is hers by right: the Iron Throne. From the Hardcover edition.',\n",
       " u'The Ultimate Game of Thrones and Philosophy: You Think or Diehttps://books.google.com/books?isbn=0812699556Eric J. Silverman, \\u200eRobert Arp - 2016 - \\u200ePreview - \\u200eMore editionsHow should political leaders be chosen in Westeros and beyond? Is power merely an illusion? Is it immoral to enjoy overly violent and sexual stories like Game of Thrones?',\n",
       " u'Game of Thrones Versus History: Written in Bloodhttps://books.google.com/books?isbn=1119249422Brian A. Pavlac - 2017 - \\u200ePreview - \\u200eMore editions\"Game of Thrones versus History: Written in Blood is a collection of thought-provoking essays by medieval historians who explore how the enormously popular HBO series and fantasy literature of George R.R. Martin are both informed by and ...',\n",
       " u\"A Dance with Dragonshttps://books.google.com/books?isbn=110188603XGeorge R. R. Martin - 2015 - \\u200ePreview - \\u200eMore editionsNew threats emerge to endanger the future of the Seven Kingdoms, as Daenerys Targaryen, ruling in the East, fights off a multitude of enemies, while Jon Snow, Lord Commander of the Night's Watch, faces his foes both in the Watch and beyond ...\",\n",
       " u'Fire in the Bloodhttps://books.google.com/books?isbn=1784626848George McCartney - 2014 - \\u200ePreview - \\u200eMore editionsJoin young Annie James as she begins her new job, working as a summer intern with Jack Davidson.',\n",
       " u\"The Winds of Winterhttps://books.google.com/books?isbn=0008165165George R. R. Martin - No preview - \\u200eMore editionsThe sixth book in George R. R. Martin's critically acclaimed, world wide best-selling series A SONG OF ICE AND FIRE - the inspiration behind HBO's GAME OF THRONES.\",\n",
       " 'Game of Thrones']"
      ]
     },
     "execution_count": 31,
     "metadata": {},
     "output_type": "execute_result"
    }
   ],
   "source": [
    "# add original search query to list\n",
    "glg_fin = glg_fin + [original]\n",
    "glg_fin"
   ]
  },
  {
   "cell_type": "code",
   "execution_count": 32,
   "metadata": {},
   "outputs": [],
   "source": [
    "# first-last comparison with original query cosine similarity function\n",
    "def glg_cos_sim(intxt):\n",
    "    tfidf_vectorizer=TfidfVectorizer()\n",
    "    tfidf_matrix=tfidf_vectorizer.fit_transform(intxt)\n",
    "    cs1=cosine_similarity(tfidf_matrix[20],tfidf_matrix[0])\n",
    "    cs2=cosine_similarity(tfidf_matrix[20],tfidf_matrix[19])\n",
    "    return cs1, cs2"
   ]
  },
  {
   "cell_type": "code",
   "execution_count": 33,
   "metadata": {},
   "outputs": [],
   "source": [
    "# calculate cosine similarity and place results on variable\n",
    "glg_cos_sin = glg_cos_sim(glg_fin)"
   ]
  },
  {
   "cell_type": "code",
   "execution_count": 34,
   "metadata": {},
   "outputs": [
    {
     "name": "stdout",
     "output_type": "stream",
     "text": [
      "2. b) Text Similarity for Google search: \n",
      "Google Cosine Similarity:  (array([[0.2719392]]), array([[0.20712048]]))\n",
      "Amazon Cosine Similarity:  [array([[0.36387458]]), array([[0.34683375]]), array([[0.3261268]]), array([[0.27823025]]), array([[0.35304913]]), array([[0.12056796]]), array([[0.06615533]]), array([[0.1402368]]), array([[0.27854425]]), array([[0.12881571]]), array([[0.02664951]]), array([[0.04065381]]), array([[0.09446055]]), array([[0.09466687]]), array([[0.156706]]), array([[0.07931479]]), array([[0.02389383]]), array([[0.08099637]]), array([[0.0368865]]), array([[0.01953819]]), array([[0.]]), array([[0.26144552]]), array([[0.15970311]])]\n"
     ]
    }
   ],
   "source": [
    "print \"2. b) Text Similarity for Google search: \"\n",
    "print \"Google Cosine Similarity: \", glg_cos_sin\n",
    "print \"Amazon Cosine Similarity: \", got_cos_sim"
   ]
  },
  {
   "cell_type": "code",
   "execution_count": 35,
   "metadata": {},
   "outputs": [
    {
     "name": "stdout",
     "output_type": "stream",
     "text": [
      "2. c) Highest Similarity measure found on first results of amazon book search.\n",
      "As we can see from the results above the google cosine similarity is higher for the first book than the last one. However our amazon books results held the highest cosine similarity meausure. It seems that results on the beginning of each page hold the highest similarity as is expected from a good ranking algorithm. Additionally one can see that amazon returned more accurate results as opposed to google\n"
     ]
    }
   ],
   "source": [
    "print \"2. c) Highest Similarity measure found on first results of amazon book search.\"\n",
    "print  \"As we can see from the results above the google cosine similarity is higher for the first book than the last one. However our amazon books results held the highest cosine similarity meausure. It seems that results on the beginning of each page hold the highest similarity as is expected from a good ranking algorithm. Additionally one can see that amazon returned more accurate results as opposed to google\"\n"
   ]
  },
  {
   "cell_type": "code",
   "execution_count": null,
   "metadata": {},
   "outputs": [],
   "source": []
  }
 ],
 "metadata": {
  "kernelspec": {
   "display_name": "Python 3",
   "language": "python",
   "name": "python3"
  },
  "language_info": {
   "codemirror_mode": {
    "name": "ipython",
    "version": 3
   },
   "file_extension": ".py",
   "mimetype": "text/x-python",
   "name": "python",
   "nbconvert_exporter": "python",
   "pygments_lexer": "ipython3",
   "version": "3.5.6"
  }
 },
 "nbformat": 4,
 "nbformat_minor": 2
}
