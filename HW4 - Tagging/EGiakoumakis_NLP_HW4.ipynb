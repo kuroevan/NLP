{
 "cells": [
  {
   "cell_type": "markdown",
   "metadata": {},
   "source": [
    "# MSDS 7337 - Natural Language Processing"
   ]
  },
  {
   "cell_type": "markdown",
   "metadata": {},
   "source": [
    "## Homework 4"
   ]
  },
  {
   "cell_type": "markdown",
   "metadata": {},
   "source": [
    "### by Evangelos GIakoumakis"
   ]
  },
  {
   "cell_type": "markdown",
   "metadata": {},
   "source": [
    "Imports"
   ]
  },
  {
   "cell_type": "code",
   "execution_count": 25,
   "metadata": {},
   "outputs": [],
   "source": [
    "import nltk\n",
    "from nltk.corpus import brown\n",
    "import matplotlib.pyplot as plt"
   ]
  },
  {
   "cell_type": "code",
   "execution_count": 24,
   "metadata": {},
   "outputs": [
    {
     "name": "stdout",
     "output_type": "stream",
     "text": [
      "System information:\n",
      "Windows-10-10.0.17134\n",
      "('Python', '2.7.15 |Anaconda, Inc.| (default, May  1 2018, 18:37:09) [MSC v.1500 64 bit (AMD64)]')\n"
     ]
    }
   ],
   "source": [
    "print (\"System information:\")\n",
    "import platform; \n",
    "print(platform.platform())\n",
    "import sys\n",
    "print(\"Python\", sys.version)"
   ]
  },
  {
   "cell_type": "markdown",
   "metadata": {},
   "source": [
    "Sentences selected for tagging"
   ]
  },
  {
   "cell_type": "code",
   "execution_count": 2,
   "metadata": {},
   "outputs": [],
   "source": [
    "long_sentence = \"We cross our bridges as we come to them and burn them behind us, with nothing to show for our progress except a memory of the smell of smoke, and the presumption that once our eyes watered.\"\n",
    "short_sentence = \"He is very nice; Is he very nice?\"\n",
    "sentence = \"He is more myself than I am.\""
   ]
  },
  {
   "cell_type": "markdown",
   "metadata": {},
   "source": [
    "1.\tRun one of the part-of-speech (POS) taggers available in Python. "
   ]
  },
  {
   "cell_type": "code",
   "execution_count": 3,
   "metadata": {},
   "outputs": [
    {
     "data": {
      "text/plain": [
       "[('He', 'PRP'),\n",
       " ('is', 'VBZ'),\n",
       " ('more', 'RBR'),\n",
       " ('myself', 'PRP'),\n",
       " ('than', 'IN'),\n",
       " ('I', 'PRP'),\n",
       " ('am', 'VBP'),\n",
       " ('.', '.')]"
      ]
     },
     "execution_count": 3,
     "metadata": {},
     "output_type": "execute_result"
    }
   ],
   "source": [
    "tokens = nltk.word_tokenize(sentence)\n",
    "tagged = nltk.pos_tag(tokens)\n",
    "tagged"
   ]
  },
  {
   "cell_type": "markdown",
   "metadata": {},
   "source": [
    "a.\tFind the longest sentence you can, longer than 10 words, that the POS tagger tags correctly. Show the input and output."
   ]
  },
  {
   "cell_type": "markdown",
   "metadata": {},
   "source": [
    "Custom POS Tagging function that allows us to use 4 different tagging methods \n",
    "(0 - NLTK pos.tagging\n",
    " 1 - Unigram tagging\n",
    " 2 - Bigram tagging\n",
    " 3 - Trigram tagging)"
   ]
  },
  {
   "cell_type": "code",
   "execution_count": 4,
   "metadata": {},
   "outputs": [],
   "source": [
    "def my_tagger(input, type):\n",
    "    if input == \"\":\n",
    "        print \"Empty text input!\"\n",
    "    else:\n",
    "        if type == 0:\n",
    "            tokens = nltk.word_tokenize(input)\n",
    "            tagged = nltk.pos_tag(tokens)\n",
    "            tag_eval = 0\n",
    "        elif type == 1:\n",
    "            train_sents = brown.tagged_sents()\n",
    "            unigram_tagger = nltk.UnigramTagger(train_sents)\n",
    "            tokens = nltk.word_tokenize(input)\n",
    "            tagged = unigram_tagger.tag(tokens)\n",
    "            tag_eval = (unigram_tagger.evaluate([tagged]) * 100)\n",
    "        elif type == 2:\n",
    "            train_sents = brown.tagged_sents()\n",
    "            bigram_tagger = nltk.BigramTagger(train_sents)\n",
    "            tokens = nltk.word_tokenize(input)\n",
    "            tagged = bigram_tagger.tag(tokens)\n",
    "            tag_eval = (bigram_tagger.evaluate([tagged]) * 100)\n",
    "        elif type == 3:\n",
    "            train_sents = brown.tagged_sents()\n",
    "            trigram_tagger = nltk.TrigramTagger(train_sents)\n",
    "            tokens = nltk.word_tokenize(input)\n",
    "            tagged = trigram_tagger.tag(tokens)\n",
    "            tag_eval = (trigram_tagger.evaluate([tagged]) * 100)\n",
    "        else:\n",
    "            print \"No POS Tagger type passed!\"\n",
    "        return tagged, tag_eval   "
   ]
  },
  {
   "cell_type": "code",
   "execution_count": 5,
   "metadata": {},
   "outputs": [
    {
     "name": "stdout",
     "output_type": "stream",
     "text": [
      "We cross our bridges as we come to them and burn them behind us, with nothing to show for our progress except a memory of the smell of smoke, and the presumption that once our eyes watered.\n"
     ]
    },
    {
     "data": {
      "text/plain": [
       "[('We', 'PRP'),\n",
       " ('cross', 'VBP'),\n",
       " ('our', 'PRP$'),\n",
       " ('bridges', 'NNS'),\n",
       " ('as', 'IN'),\n",
       " ('we', 'PRP'),\n",
       " ('come', 'VBP'),\n",
       " ('to', 'TO'),\n",
       " ('them', 'PRP'),\n",
       " ('and', 'CC'),\n",
       " ('burn', 'VB'),\n",
       " ('them', 'PRP'),\n",
       " ('behind', 'IN'),\n",
       " ('us', 'PRP'),\n",
       " (',', ','),\n",
       " ('with', 'IN'),\n",
       " ('nothing', 'NN'),\n",
       " ('to', 'TO'),\n",
       " ('show', 'VB'),\n",
       " ('for', 'IN'),\n",
       " ('our', 'PRP$'),\n",
       " ('progress', 'NN'),\n",
       " ('except', 'IN'),\n",
       " ('a', 'DT'),\n",
       " ('memory', 'NN'),\n",
       " ('of', 'IN'),\n",
       " ('the', 'DT'),\n",
       " ('smell', 'NN'),\n",
       " ('of', 'IN'),\n",
       " ('smoke', 'NN'),\n",
       " (',', ','),\n",
       " ('and', 'CC'),\n",
       " ('the', 'DT'),\n",
       " ('presumption', 'NN'),\n",
       " ('that', 'WDT'),\n",
       " ('once', 'RB'),\n",
       " ('our', 'PRP$'),\n",
       " ('eyes', 'NNS'),\n",
       " ('watered', 'VBN'),\n",
       " ('.', '.')]"
      ]
     },
     "execution_count": 5,
     "metadata": {},
     "output_type": "execute_result"
    }
   ],
   "source": [
    "print long_sentence\n",
    "long_tag_1, long_tag_ev_1 = my_tagger(long_sentence, 0)\n",
    "long_tag_1"
   ]
  },
  {
   "cell_type": "markdown",
   "metadata": {},
   "source": [
    "b.\tFind the shortest sentence you can, shorter than 10 words, that the POS tagger fails to tag 100 percent correctly. Show the input and output. Explain your conjecture as to why the tagger might have been less than perfect with this sentence."
   ]
  },
  {
   "cell_type": "code",
   "execution_count": 6,
   "metadata": {},
   "outputs": [
    {
     "name": "stdout",
     "output_type": "stream",
     "text": [
      "He is very nice; Is he very nice?\n",
      "Correctly tagged 87,5% of words\n"
     ]
    },
    {
     "data": {
      "text/plain": [
       "[('He', 'PRP'),\n",
       " ('is', 'VBZ'),\n",
       " ('very', 'RB'),\n",
       " ('nice', 'JJ'),\n",
       " (';', ':'),\n",
       " ('Is', 'VBZ'),\n",
       " ('he', 'PRP'),\n",
       " ('very', 'RB'),\n",
       " ('nice', 'RB'),\n",
       " ('?', '.')]"
      ]
     },
     "execution_count": 6,
     "metadata": {},
     "output_type": "execute_result"
    }
   ],
   "source": [
    "print short_sentence\n",
    "shrt_tag_1, shrt_tag_ev_1 = my_tagger(short_sentence, 0)\n",
    "print \"Correctly tagged 87,5% of words\"\n",
    "shrt_tag_1"
   ]
  },
  {
   "cell_type": "markdown",
   "metadata": {},
   "source": [
    "2.\tRun a different POS tagger in Python. Process the same two sentences from question 1."
   ]
  },
  {
   "cell_type": "code",
   "execution_count": 7,
   "metadata": {},
   "outputs": [
    {
     "data": {
      "text/plain": [
       "[('We', u'PPSS'),\n",
       " ('cross', u'VB'),\n",
       " ('our', u'PP$'),\n",
       " ('bridges', u'NNS'),\n",
       " ('as', u'CS'),\n",
       " ('we', u'PPSS'),\n",
       " ('come', u'VB'),\n",
       " ('to', u'TO'),\n",
       " ('them', u'PPO'),\n",
       " ('and', u'CC'),\n",
       " ('burn', u'VB'),\n",
       " ('them', u'PPO'),\n",
       " ('behind', u'IN'),\n",
       " ('us', u'PPO'),\n",
       " (',', u','),\n",
       " ('with', u'IN'),\n",
       " ('nothing', u'PN'),\n",
       " ('to', u'TO'),\n",
       " ('show', u'VB'),\n",
       " ('for', u'IN'),\n",
       " ('our', u'PP$'),\n",
       " ('progress', u'NN'),\n",
       " ('except', u'IN'),\n",
       " ('a', u'AT'),\n",
       " ('memory', u'NN'),\n",
       " ('of', u'IN'),\n",
       " ('the', u'AT'),\n",
       " ('smell', u'NN'),\n",
       " ('of', u'IN'),\n",
       " ('smoke', u'NN'),\n",
       " (',', u','),\n",
       " ('and', u'CC'),\n",
       " ('the', u'AT'),\n",
       " ('presumption', u'NN'),\n",
       " ('that', u'CS'),\n",
       " ('once', u'RB'),\n",
       " ('our', u'PP$'),\n",
       " ('eyes', u'NNS'),\n",
       " ('watered', u'VBD'),\n",
       " ('.', u'.')]"
      ]
     },
     "execution_count": 7,
     "metadata": {},
     "output_type": "execute_result"
    }
   ],
   "source": [
    "long_tag_2, long_tag_ev_2 = my_tagger(long_sentence, 1)\n",
    "long_tag_2"
   ]
  },
  {
   "cell_type": "code",
   "execution_count": 8,
   "metadata": {},
   "outputs": [
    {
     "data": {
      "text/plain": [
       "[('He', u'PPS'),\n",
       " ('is', u'BEZ'),\n",
       " ('more', u'QL'),\n",
       " ('myself', u'PPL'),\n",
       " ('than', u'CS'),\n",
       " ('I', u'PPSS'),\n",
       " ('am', u'BEM'),\n",
       " ('.', u'.')]"
      ]
     },
     "execution_count": 8,
     "metadata": {},
     "output_type": "execute_result"
    }
   ],
   "source": [
    "reg_tag, reg_tag_ev = my_tagger(sentence, 1)\n",
    "reg_tag"
   ]
  },
  {
   "cell_type": "markdown",
   "metadata": {},
   "source": [
    "a.\tDoes it produce the same or different output?"
   ]
  },
  {
   "cell_type": "markdown",
   "metadata": {},
   "source": [
    "The 2 taggers produced an entirely different output:\n",
    "\n",
    "NLTK pos.tag:\n",
    "[('He', 'PRP'),\n",
    " ('is', 'VBZ'),\n",
    " ('more', 'RBR'),\n",
    " ('myself', 'PRP'),\n",
    " ('than', 'IN'),\n",
    " ('I', 'PRP'),\n",
    " ('am', 'VBP'),\n",
    " ('.', '.')]\n",
    " \n",
    " NLTK UnigramTagger:\n",
    " [('He', u'PPS'),\n",
    " ('is', u'BEZ'),\n",
    " ('more', u'QL'),\n",
    " ('myself', u'PPL'),\n",
    " ('than', u'CS'),\n",
    " ('I', u'PPSS'),\n",
    " ('am', u'BEM'),\n",
    " ('.', u'.')]"
   ]
  },
  {
   "cell_type": "code",
   "execution_count": 9,
   "metadata": {},
   "outputs": [
    {
     "name": "stdout",
     "output_type": "stream",
     "text": [
      "Percentage matched: 12,5%\n"
     ]
    },
    {
     "data": {
      "text/plain": [
       "{('.', u'.')}"
      ]
     },
     "execution_count": 9,
     "metadata": {},
     "output_type": "execute_result"
    }
   ],
   "source": [
    "matched = set(tagged) & set(reg_tag)\n",
    "print \"Percentage matched: 12,5%\"\n",
    "matched"
   ]
  },
  {
   "cell_type": "markdown",
   "metadata": {},
   "source": [
    "b.\tExplain any differences as best you can."
   ]
  },
  {
   "cell_type": "markdown",
   "metadata": {},
   "source": [
    "Given that these 2 taggers used different datasets for training as well as having a different categorical tag output, it is only natural that their respective results would not allign 100% with each other."
   ]
  },
  {
   "cell_type": "markdown",
   "metadata": {},
   "source": [
    "3.\tIn a news article from this week’s news, find a random sentence of at least 10 words."
   ]
  },
  {
   "cell_type": "code",
   "execution_count": 10,
   "metadata": {},
   "outputs": [],
   "source": [
    "news = \"Trapped by Hurricane Michael, some residents summoned aid by spelling out 'HELP' with logs\""
   ]
  },
  {
   "cell_type": "markdown",
   "metadata": {},
   "source": [
    "a.\tLooking at the Penn tag set, manually POS tag the sentence yourself."
   ]
  },
  {
   "cell_type": "code",
   "execution_count": 13,
   "metadata": {},
   "outputs": [
    {
     "name": "stdout",
     "output_type": "stream",
     "text": [
      "Manual POS Tagging\n"
     ]
    },
    {
     "data": {
      "text/plain": [
       "[('Trapped', 'VBD'),\n",
       " ('by', 'IN'),\n",
       " ('Hurricane', 'NN'),\n",
       " ('Michael', 'NNP'),\n",
       " (',', ','),\n",
       " ('some', 'DT'),\n",
       " ('residents', 'NNS'),\n",
       " ('summoned', 'VBD'),\n",
       " ('aid', 'NN'),\n",
       " ('by', 'IN'),\n",
       " ('spelling', 'VBG'),\n",
       " ('out', 'RP'),\n",
       " (\"'HELP\", 'NN'),\n",
       " (\"'\", 'None'),\n",
       " ('with', 'IN'),\n",
       " ('logs', 'NNS')]"
      ]
     },
     "execution_count": 13,
     "metadata": {},
     "output_type": "execute_result"
    }
   ],
   "source": [
    "print \"Manual POS Tagging\"\n",
    "manual_news = [('Trapped', 'VBD'),\n",
    " ('by', 'IN'),\n",
    " ('Hurricane', 'NN'),\n",
    " ('Michael', 'NNP'),\n",
    " (',', ','),\n",
    " ('some', 'DT'),\n",
    " ('residents', 'NNS'),\n",
    " ('summoned', 'VBD'),\n",
    " ('aid', 'NN'),\n",
    " ('by', 'IN'),\n",
    " ('spelling', 'VBG'),\n",
    " ('out', 'RP'),\n",
    " (\"'HELP\", 'NN'),\n",
    " (\"'\", 'None'),\n",
    " ('with', 'IN'),\n",
    " ('logs', 'NNS')]\n",
    "\n",
    "manual_news"
   ]
  },
  {
   "cell_type": "markdown",
   "metadata": {},
   "source": [
    "b.\tNow run the same sentences through both taggers that you implemented for questions 1 and 2. Did either of the taggers produce the same results as you had created manually?"
   ]
  },
  {
   "cell_type": "code",
   "execution_count": 11,
   "metadata": {},
   "outputs": [
    {
     "name": "stdout",
     "output_type": "stream",
     "text": [
      "Using the NLTK pos.tag\n"
     ]
    },
    {
     "data": {
      "text/plain": [
       "[('Trapped', 'VBN'),\n",
       " ('by', 'IN'),\n",
       " ('Hurricane', 'NNP'),\n",
       " ('Michael', 'NNP'),\n",
       " (',', ','),\n",
       " ('some', 'DT'),\n",
       " ('residents', 'NNS'),\n",
       " ('summoned', 'VBN'),\n",
       " ('aid', 'NN'),\n",
       " ('by', 'IN'),\n",
       " ('spelling', 'VBG'),\n",
       " ('out', 'RP'),\n",
       " (\"'HELP\", 'NNS'),\n",
       " (\"'\", 'POS'),\n",
       " ('with', 'IN'),\n",
       " ('logs', 'NNS')]"
      ]
     },
     "execution_count": 11,
     "metadata": {},
     "output_type": "execute_result"
    }
   ],
   "source": [
    "print \"Using the NLTK pos.tag\"\n",
    "news_tag_1, news_tag_ev_1 = my_tagger(news, 0)\n",
    "news_tag_1"
   ]
  },
  {
   "cell_type": "code",
   "execution_count": 12,
   "metadata": {},
   "outputs": [
    {
     "name": "stdout",
     "output_type": "stream",
     "text": [
      "Using the NLTK pos.tag\n"
     ]
    },
    {
     "data": {
      "text/plain": [
       "[('Trapped', None),\n",
       " ('by', u'IN'),\n",
       " ('Hurricane', u'NN-TL'),\n",
       " ('Michael', u'NP'),\n",
       " (',', u','),\n",
       " ('some', u'DTI'),\n",
       " ('residents', u'NNS'),\n",
       " ('summoned', u'VBD'),\n",
       " ('aid', u'NN'),\n",
       " ('by', u'IN'),\n",
       " ('spelling', u'NN'),\n",
       " ('out', u'RP'),\n",
       " (\"'HELP\", None),\n",
       " (\"'\", u\"'\"),\n",
       " ('with', u'IN'),\n",
       " ('logs', u'NNS')]"
      ]
     },
     "execution_count": 12,
     "metadata": {},
     "output_type": "execute_result"
    }
   ],
   "source": [
    "print \"Using the NLTK UnigramTagger\"\n",
    "news_tag_2, news_tag_ev_2 = my_tagger(news, 1)\n",
    "news_tag_2"
   ]
  },
  {
   "cell_type": "markdown",
   "metadata": {},
   "source": [
    "c.\tExplain any differences between the two taggers and your manual tagging as much as you can."
   ]
  },
  {
   "cell_type": "code",
   "execution_count": 16,
   "metadata": {},
   "outputs": [
    {
     "name": "stdout",
     "output_type": "stream",
     "text": [
      "Percentage matched by all three taggers: 44%\n"
     ]
    },
    {
     "data": {
      "text/plain": [
       "{(',', ','),\n",
       " ('aid', 'NN'),\n",
       " ('by', 'IN'),\n",
       " ('logs', 'NNS'),\n",
       " ('out', 'RP'),\n",
       " ('residents', 'NNS'),\n",
       " ('with', 'IN')}"
      ]
     },
     "execution_count": 16,
     "metadata": {},
     "output_type": "execute_result"
    }
   ],
   "source": [
    "tot_match = matched = set(manual_news) & set(news_tag_1) & set(news_tag_2)\n",
    "print \"Percentage matched by all three taggers: 44%\"\n",
    "tot_match"
   ]
  },
  {
   "cell_type": "code",
   "execution_count": 28,
   "metadata": {},
   "outputs": [
    {
     "data": {
      "text/plain": [
       "<matplotlib.legend.Legend at 0xe581c18>"
      ]
     },
     "execution_count": 28,
     "metadata": {},
     "output_type": "execute_result"
    },
    {
     "data": {
      "image/png": "[encoded data removed]",
      "text/plain": [
       "<Figure size 432x288 with 1 Axes>"
      ]
     },
     "metadata": {},
     "output_type": "display_data"
    }
   ],
   "source": [
    "values = [44, (100-44)]\n",
    "colors = ['b', 'r']\n",
    "labels = ['Matched', 'Missed']\n",
    "explode = (0.1, 0)\n",
    "plt.pie(values, colors=colors, labels= values,explode=explode,counterclock=False, shadow=True)\n",
    "plt.title('POS Tags Matched/Missed from all 3 methods Pie Chart')\n",
    "plt.legend(labels,loc=3)"
   ]
  },
  {
   "cell_type": "code",
   "execution_count": 21,
   "metadata": {},
   "outputs": [
    {
     "data": {
      "text/plain": [
       "{(',', ','),\n",
       " ('Michael', 'NNP'),\n",
       " ('aid', 'NN'),\n",
       " ('by', 'IN'),\n",
       " ('logs', 'NNS'),\n",
       " ('out', 'RP'),\n",
       " ('residents', 'NNS'),\n",
       " ('some', 'DT'),\n",
       " ('spelling', 'VBG'),\n",
       " ('with', 'IN')}"
      ]
     },
     "execution_count": 21,
     "metadata": {},
     "output_type": "execute_result"
    }
   ],
   "source": [
    "t1_match = matched = set(news_tag_1) & set(manual_news)\n",
    "print \"Percentage matched by manual Tag and NLTK pos.tag: 63%\"\n",
    "t1_match"
   ]
  },
  {
   "cell_type": "code",
   "execution_count": 22,
   "metadata": {},
   "outputs": [
    {
     "data": {
      "text/plain": [
       "{(',', ','),\n",
       " ('aid', 'NN'),\n",
       " ('by', 'IN'),\n",
       " ('logs', 'NNS'),\n",
       " ('out', 'RP'),\n",
       " ('residents', 'NNS'),\n",
       " ('summoned', 'VBD'),\n",
       " ('with', 'IN')}"
      ]
     },
     "execution_count": 22,
     "metadata": {},
     "output_type": "execute_result"
    }
   ],
   "source": [
    "t2_match = matched = set(news_tag_2) & set(manual_news)\n",
    "print \"Percentage matched by manual Tag and NLTK Unigram: 50%\"\n",
    "t2_match"
   ]
  },
  {
   "cell_type": "code",
   "execution_count": 23,
   "metadata": {},
   "outputs": [
    {
     "data": {
      "text/plain": [
       "{(',', ','),\n",
       " ('aid', 'NN'),\n",
       " ('by', 'IN'),\n",
       " ('logs', 'NNS'),\n",
       " ('out', 'RP'),\n",
       " ('residents', 'NNS'),\n",
       " ('with', 'IN')}"
      ]
     },
     "execution_count": 23,
     "metadata": {},
     "output_type": "execute_result"
    }
   ],
   "source": [
    "t3_match = matched = set(news_tag_2) & set(news_tag_1)\n",
    "print \"Percentage matched by NLTK pos.tag and the NLTK Unigram: 44%\"\n",
    "t3_match"
   ]
  },
  {
   "cell_type": "code",
   "execution_count": 26,
   "metadata": {},
   "outputs": [
    {
     "data": {
      "text/plain": [
       "([<matplotlib.patches.Wedge at 0x107a6e10>,\n",
       "  <matplotlib.patches.Wedge at 0x10719588>],\n",
       " [Text(0.206119,-1.08052,'Matched'), Text(-0.206119,1.08052,'Missed')])"
      ]
     },
     "execution_count": 26,
     "metadata": {},
     "output_type": "execute_result"
    },
    {
     "data": {
      "image/png": "[encoded data removed]",
      "text/plain": [
       "<Figure size 432x288 with 3 Axes>"
      ]
     },
     "metadata": {},
     "output_type": "display_data"
    }
   ],
   "source": [
    "values = [63, (100-63)]\n",
    "values2 = [50, (100-50)]\n",
    "values3 = [44, (100-44)]\n",
    "colors = ['r', 'b']\n",
    "colors2 = ['y', 'b']\n",
    "colors3 = ['g', 'b']\n",
    "labels = ['Matched', 'Missed']\n",
    "\n",
    "f, (ax1, ax2, ax3) = plt.subplots(1, 3, sharey=True)\n",
    "ax1.set_title('POS Tags Matched - Missed Chart')\n",
    "ax1.pie(values, colors=colors, labels= labels,counterclock=False, shadow=True)\n",
    "ax2.pie(values2, colors=colors2, labels= labels,counterclock=False, shadow=True)\n",
    "ax3.pie(values3, colors=colors3, labels= labels,counterclock=False, shadow=True)"
   ]
  },
  {
   "cell_type": "markdown",
   "metadata": {},
   "source": [
    "As we can see from the results above the methods used to Tag words from a news article produced different results. \n",
    "All of them agree on around 44% of words identified.\n",
    "The manual Tag and NLTK pos.tag agree on around 63% of words identified.\n",
    "The manual Tag and NLTK Unigram Tagger agree on 50% of words identified.\n",
    "Finally, the NLTK pos.tag and the NLTK Unigram Tagger agree on around 44% of words identified.\n",
    "\n",
    "As stated earlier this is to be expected. Tagging can be a subjective process. All methods used different training samples and rules to differentiate between the various parts of speech, so it comes as no suprise that they arrived to different results.\n",
    "A thing that must be noted is that the low agreeance percentage between our methods is mainly due to the fact that the NLTK pos.tag and Unigram Tag use a different part of speech tag classification."
   ]
  },
  {
   "cell_type": "code",
   "execution_count": null,
   "metadata": {},
   "outputs": [],
   "source": []
  }
 ],
 "metadata": {
  "kernelspec": {
   "display_name": "Python 3",
   "language": "python",
   "name": "python3"
  },
  "language_info": {
   "codemirror_mode": {
    "name": "ipython",
    "version": 3
   },
   "file_extension": ".py",
   "mimetype": "text/x-python",
   "name": "python",
   "nbconvert_exporter": "python",
   "pygments_lexer": "ipython3",
   "version": "3.5.6"
  }
 },
 "nbformat": 4,
 "nbformat_minor": 2
}
